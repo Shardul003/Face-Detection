<h1><b><u>Face Detection with VGG-Face Model</u></b></h1>
This project demonstrates face detection using a Convolutional Neural Network (CNN) based on the VGG-Face model. The notebook is designed to be run in Google Colab and leverages pre-trained weights to facilitate efficient and accurate face recognition.


